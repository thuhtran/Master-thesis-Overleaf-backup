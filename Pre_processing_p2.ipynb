{
 "cells": [
  {
   "cell_type": "code",
   "execution_count": 1,
   "metadata": {},
   "outputs": [],
   "source": [
    "import os"
   ]
  },
  {
   "cell_type": "markdown",
   "metadata": {},
   "source": [
    "Libraries/Packages"
   ]
  },
  {
   "cell_type": "code",
   "execution_count": 2,
   "metadata": {},
   "outputs": [],
   "source": [
    "#general\n",
    "import pandas as pd\n",
    "import numpy as np\n",
    "\n",
    "#visualization\n",
    "import matplotlib.pyplot as plt"
   ]
  },
  {
   "cell_type": "markdown",
   "metadata": {},
   "source": [
    "### Preparing explanatory variables"
   ]
  },
  {
   "cell_type": "code",
   "execution_count": 3,
   "metadata": {},
   "outputs": [],
   "source": [
    "df =  pd.read_parquet(\"/Users/carrot2506/Files on Lap/Thesis Preparation/Data/cleaned_TAQ_IBM_N_2020_Feb_Mar_Apr_Thu.parquet\", engine=\"pyarrow\")"
   ]
  },
  {
   "cell_type": "code",
   "execution_count": 4,
   "metadata": {},
   "outputs": [
    {
     "name": "stdout",
     "output_type": "stream",
     "text": [
      "       Date     TradeTime   Price  Volume     QuoteTime    Bid     Ask  \\\n",
      "0  20200203  34241.145687  144.30      22  34241.145661  144.2  144.38   \n",
      "1  20200203  34241.145696  144.27       5  34241.145661  144.2  144.38   \n",
      "2  20200203  34241.145748  144.25      73  34241.145661  144.2  144.38   \n",
      "3  20200203  34241.153160  144.35       4  34241.148387  144.2  144.37   \n",
      "4  20200203  34241.153276  144.30      10  34241.148387  144.2  144.37   \n",
      "\n",
      "   BidAskSpread  \n",
      "0          0.18  \n",
      "1          0.18  \n",
      "2          0.18  \n",
      "3          0.17  \n",
      "4          0.17  \n"
     ]
    }
   ],
   "source": [
    "print(df.head())"
   ]
  },
  {
   "cell_type": "markdown",
   "metadata": {},
   "source": [
    "#### Time between trades"
   ]
  },
  {
   "cell_type": "code",
   "execution_count": 5,
   "metadata": {},
   "outputs": [],
   "source": [
    "df['delta_T'] = df.groupby('Date')['TradeTime'].shift(1).rsub(df['TradeTime'])"
   ]
  },
  {
   "cell_type": "code",
   "execution_count": null,
   "metadata": {},
   "outputs": [],
   "source": [
    "#max_deltas = df.groupby('Date')['delta_T'].max()\n",
    "#print(max_deltas.sort_values(ascending=False).head(50))"
   ]
  },
  {
   "cell_type": "code",
   "execution_count": 7,
   "metadata": {},
   "outputs": [
    {
     "name": "stdout",
     "output_type": "stream",
     "text": [
      "count    876761.000000\n",
      "mean          6.663154\n",
      "std           6.548076\n",
      "min           1.000000\n",
      "25%           3.000000\n",
      "50%           5.000000\n",
      "75%           8.000000\n",
      "max         251.000000\n",
      "Name: delta_T, dtype: float64\n"
     ]
    }
   ],
   "source": [
    "print(df['delta_T'].describe())"
   ]
  },
  {
   "cell_type": "code",
   "execution_count": 6,
   "metadata": {},
   "outputs": [],
   "source": [
    "df['delta_T_scaled100'] = df['delta_T'] / 100"
   ]
  },
  {
   "cell_type": "code",
   "execution_count": 7,
   "metadata": {},
   "outputs": [],
   "source": [
    "df['delta_T_scaled10'] = df['delta_T'] / 10"
   ]
  },
  {
   "cell_type": "code",
   "execution_count": 10,
   "metadata": {},
   "outputs": [
    {
     "name": "stdout",
     "output_type": "stream",
     "text": [
      "count    876761.000000\n",
      "mean          0.666315\n",
      "std           0.654808\n",
      "min           0.100000\n",
      "25%           0.300000\n",
      "50%           0.500000\n",
      "75%           0.800000\n",
      "max          25.100000\n",
      "Name: delta_T_scaled10, dtype: float64\n"
     ]
    }
   ],
   "source": [
    "print(df['delta_T_scaled10'].describe())"
   ]
  },
  {
   "cell_type": "markdown",
   "metadata": {},
   "source": [
    "#### First-lag of Bid/Ask Spread"
   ]
  },
  {
   "cell_type": "code",
   "execution_count": 8,
   "metadata": {},
   "outputs": [],
   "source": [
    "df['AB_lag1'] = df['BidAskSpread'].shift(1)"
   ]
  },
  {
   "cell_type": "markdown",
   "metadata": {},
   "source": [
    "#### Volume"
   ]
  },
  {
   "cell_type": "code",
   "execution_count": 9,
   "metadata": {},
   "outputs": [
    {
     "name": "stdout",
     "output_type": "stream",
     "text": [
      "Volume Distribution:\n",
      "   Percentile (%)  Volume\n",
      "0             0.0       1\n",
      "1            25.0      13\n",
      "2            50.0      85\n",
      "3            75.0     100\n",
      "4            90.0     158\n",
      "5            99.0     470\n",
      "6            99.5     651\n",
      "7           100.0   55653\n"
     ]
    }
   ],
   "source": [
    "percentiles = [0, 25, 50, 75, 90, 99, 99.5, 100]\n",
    "volume_percentiles = np.percentile(df['Volume'], percentiles).astype(int)\n",
    "\n",
    "\n",
    "percentile_df = pd.DataFrame({\n",
    "    'Percentile (%)': percentiles,\n",
    "    'Volume': volume_percentiles\n",
    "})\n",
    "\n",
    "print(\"Volume Distribution:\")\n",
    "print(percentile_df)"
   ]
  },
  {
   "cell_type": "code",
   "execution_count": 10,
   "metadata": {},
   "outputs": [],
   "source": [
    "df['V'] = df['Volume'].apply(lambda x: min(x, 651)) #Hausman et al (1992): if the trade exceeds 99.5 percentile -> set it equal to 99.5 percentile\n",
    "\n",
    "df['V'] = df['Price'] * df['V'] #calculate dollar volume\n",
    "df['V'] = df['V']/100 #denominate in $100 of dollar"
   ]
  },
  {
   "cell_type": "code",
   "execution_count": 11,
   "metadata": {},
   "outputs": [],
   "source": [
    "df['lnV'] = np.log(df['V'])"
   ]
  },
  {
   "cell_type": "code",
   "execution_count": null,
   "metadata": {},
   "outputs": [
    {
     "name": "stdout",
     "output_type": "stream",
     "text": [
      "Dollar Volume Distribution:\n",
      "   Percentile (%)  Dollar Volume\n",
      "0             0.0              1\n",
      "1            25.0             14\n",
      "2            50.0             73\n",
      "3            75.0            142\n",
      "4            99.5            929\n",
      "5           100.0           1210\n"
     ]
    }
   ],
   "source": [
    "#V_percentiles = np.percentile(df['V'], percentiles).astype(int)\n",
    "\n",
    "\n",
    "#dollar_V_percentile_df = pd.DataFrame({\n",
    " #   'Percentile (%)': percentiles,\n",
    "  #  'Dollar Volume': V_percentiles\n",
    "#})\n",
    "\n",
    "#print(\"Dollar Volume Distribution:\")\n",
    "#print(dollar_V_percentile_df)"
   ]
  },
  {
   "cell_type": "markdown",
   "metadata": {},
   "source": [
    "#### Buyer/Seller-initiated Indicator"
   ]
  },
  {
   "cell_type": "code",
   "execution_count": 12,
   "metadata": {},
   "outputs": [],
   "source": [
    "df['Z'] = df.groupby('Date')['Price'].shift(1).rsub(df['Price']) #Price change"
   ]
  },
  {
   "cell_type": "code",
   "execution_count": 13,
   "metadata": {},
   "outputs": [],
   "source": [
    "df['MidQuote'] = (df['Bid'] + df['Ask']) / 2 #Midquote"
   ]
  },
  {
   "cell_type": "code",
   "execution_count": 14,
   "metadata": {},
   "outputs": [],
   "source": [
    "#If trade price > midquote: buyer initiated: IBS=1\n",
    "#If trade price < midquote: seller initiated: IBS=−1\n",
    "#If trade price = midquote: “Tick test”, i.e.:\n",
    "#If midquote > previous trade price: buyer initiated\n",
    "#If midquote < previous trade price: seller initiated\n",
    "#If there is no price change between consecutive trades: classification based on last tick change (if the previous tick change is up then the trade is defined as buyer initiated and vice versa.)\n",
    "\n",
    "\n",
    "def last_tick_change(idx, tick_changes):\n",
    "    valid_indices = tick_changes.index\n",
    "    for i in range(valid_indices.get_loc(idx) - 1, -1, -1):\n",
    "        if tick_changes.iloc[i] != 0:\n",
    "            return tick_changes.iloc[i]\n",
    "    return 0\n",
    "\n",
    "df['IBS'] = 0\n",
    "df['PrevPrice'] = df['Price'].shift(1)\n",
    "\n",
    "groups = df.groupby(df['Date']) #By date!!\n",
    "\n",
    "for date, daily_df in groups:\n",
    "\n",
    "    daily_df.loc[daily_df['Price'] > daily_df['MidQuote'], 'IBS'] = 1\n",
    "    daily_df.loc[daily_df['Price'] < daily_df['MidQuote'], 'IBS'] = -1\n",
    "\n",
    "    tick_test = daily_df['Price'] == daily_df['MidQuote']\n",
    "\n",
    "    daily_df.loc[tick_test & (daily_df['MidQuote'] > daily_df['PrevPrice']), 'IBS'] = 1\n",
    "    daily_df.loc[tick_test & (daily_df['MidQuote'] < daily_df['PrevPrice']), 'IBS'] = -1\n",
    "\n",
    "    no_change_idxs = daily_df[tick_test & (daily_df['MidQuote'] == daily_df['PrevPrice'])].index\n",
    "    for idx in no_change_idxs:\n",
    "        if idx in daily_df.index:\n",
    "            last_tick = last_tick_change(idx, daily_df['Z'])\n",
    "            if last_tick > 0:\n",
    "                daily_df.loc[idx, 'IBS'] = 1\n",
    "            elif last_tick < 0:\n",
    "                daily_df.loc[idx, 'IBS'] = -1\n",
    "\n",
    "    df.loc[daily_df.index, 'IBS'] = daily_df['IBS']"
   ]
  },
  {
   "cell_type": "markdown",
   "metadata": {},
   "source": [
    "#### Save output"
   ]
  },
  {
   "cell_type": "code",
   "execution_count": 15,
   "metadata": {},
   "outputs": [],
   "source": [
    "output_file = os.path.join(os.getcwd(), \"prep_IBM_N_2020_Feb_Mar_Apr_Thu.parquet\") #backup\n",
    "df.to_parquet(output_file)"
   ]
  }
 ],
 "metadata": {
  "kernelspec": {
   "display_name": "myenv",
   "language": "python",
   "name": "python3"
  },
  "language_info": {
   "codemirror_mode": {
    "name": "ipython",
    "version": 3
   },
   "file_extension": ".py",
   "mimetype": "text/x-python",
   "name": "python",
   "nbconvert_exporter": "python",
   "pygments_lexer": "ipython3",
   "version": "3.13.1"
  }
 },
 "nbformat": 4,
 "nbformat_minor": 2
}
